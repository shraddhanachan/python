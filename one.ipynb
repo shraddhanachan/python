#find third largest value fron list2
list1=[11,23,54,56,25,56,34,54,5,6]
set1=set(list1)      # convert list to set to avoid duplications
print(set1)
sorted_list=sorted(set1)        # sorted list of set1 
third_largest=sorted_list[-3]   # Third largest value 
print("Third Largest Value From list1 is : ",third_largest)
